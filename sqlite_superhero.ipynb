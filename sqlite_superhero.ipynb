{
  "cells": [
    {
      "cell_type": "markdown",
      "id": "5fa8dcf6",
      "metadata": {
        "id": "5fa8dcf6"
      },
      "source": [
        "# Superhero Database Assignment (SQLite & Google Colab)\n",
        "\n",
        "## Objective\n",
        "In this assignment, you will design and implement a **Superhero Database** using SQLite in Google Colab. This database will store superheroes, villains, and their battles. You will write SQL queries to analyze battle outcomes and relationships between heroes and villains.\n",
        "\n",
        "### Group Size:\n",
        "- 2 to 3 students per group.\n",
        "\n",
        "### Tools Required:\n",
        "- **Google Colab**\n",
        "- **SQLite (built into Python)**\n",
        "- **CSV files (provided for import)**"
      ]
    },
    {
      "cell_type": "markdown",
      "id": "5535e625",
      "metadata": {
        "id": "5535e625"
      },
      "source": [
        "## Step 1: Setting Up Your SQLite Database\n",
        "\n",
        "### Tasks:\n",
        "1. Initialize SQLite in Google Colab.\n",
        "2. Create a database named `superhero_db.sqlite`.\n",
        "3. Define the database schema, ensuring it includes the following tables:\n",
        "   - `heroes`: Stores superhero names, powers, and teams.\n",
        "   - `villains`: Stores villains and their evil plans.\n",
        "   - `battles`: Tracks battles between heroes and villains, including the outcome.\n",
        "4. Implement primary keys and foreign keys where appropriate.\n",
        "\n",
        "✅ **Checkpoint:** Ensure that the database and tables have been successfully created."
      ]
    },
    {
      "cell_type": "code",
      "source": [
        "import sqlite3\n",
        "connection = sqlite3.connect('superhero_db.sqlite')\n",
        "cursor = connection.cursor()\n",
        "# heroes table\n",
        "cursor.execute('''\n",
        "CREATE TABLE IF NOT EXISTS heroes (\n",
        "  id INTEGER PRIMARY KEY AUTOINCREMENT,\n",
        "  name TEXT NOT NULL,\n",
        "  power TEXT NOT NULL,\n",
        "  team TEXT NOT NULL\n",
        ")\n",
        "''')\n",
        "\n",
        "# villains table\n",
        "cursor.execute('''\n",
        "CREATE TABLE IF NOT EXISTS villains (\n",
        "  id INTEGER PRIMARY KEY AUTOINCREMENT,\n",
        "  name TEXT NOT NULL,\n",
        "  evil_plan TEXT NOT NULL\n",
        ")\n",
        "''')\n",
        "\n",
        "# battles table that references hero and villain ids\n",
        "cursor.execute('''\n",
        "CREATE TABLE IF NOT EXISTS battles (\n",
        "  id INTEGER PRIMARY KEY AUTOINCREMENT,\n",
        "  hero_id INTEGER,\n",
        "  villain_id INTEGER,\n",
        "  outcome TEXT NOT NULL,\n",
        "  FOREIGN KEY (hero_id) REFERENCES heroes(id),\n",
        "  FOREIGN KEY (villain_id) REFERENCES villains(id)\n",
        ")\n",
        "''')\n",
        "connection.commit()\n",
        "cursor.close()\n"
      ],
      "metadata": {
        "id": "tK07MDR851Ng"
      },
      "id": "tK07MDR851Ng",
      "execution_count": 1,
      "outputs": []
    },
    {
      "cell_type": "markdown",
      "id": "154b3c3a",
      "metadata": {
        "id": "154b3c3a"
      },
      "source": [
        "## Step 2: Import Data from CSV Files\n",
        "\n",
        "### Tasks:\n",
        "1. Download the provided CSV files.\n",
        "2. Upload them to Google Colab.\n",
        "3. Write a script to import data from these files into the appropriate tables.\n",
        "4. Verify that the data has been successfully inserted.\n",
        "\n",
        "✅ **Checkpoint:** Ensure that each table contains the expected data from the CSV files."
      ]
    },
    {
      "cell_type": "code",
      "source": [
        "import pandas as pd\n",
        "df_battles = pd.read_csv('battles.csv') # read battles.csv and convert to sql\n",
        "df_battles.to_sql('battles', connection, if_exists='replace', index=False)\n",
        "df_heroes = pd.read_csv('heroes.csv') # read heroes.csv and convert to sql\n",
        "df_heroes.to_sql('heroes', connection, if_exists='replace', index=False)\n",
        "df_villains = pd.read_csv('villains.csv') # read villains.csv and convert to sql\n",
        "df_villains.to_sql('villains', connection, if_exists='replace', index=False)\n",
        "\n",
        "cursor = connection.cursor()\n",
        "cursor.execute(\"SELECT * FROM battles\")\n",
        "rows = cursor.fetchall()\n",
        "\n",
        "# display battles data\n",
        "print(\"battles data:\")\n",
        "for row in rows:\n",
        "    print(row)\n",
        "\n",
        "cursor.execute(\"SELECT * FROM heroes\")\n",
        "rows = cursor.fetchall()\n",
        "\n",
        "# display heroes data\n",
        "print(\"heroes data:\")\n",
        "for row in rows:\n",
        "    print(row)\n",
        "\n",
        "cursor.execute(\"SELECT * FROM villains\")\n",
        "rows = cursor.fetchall()\n",
        "\n",
        "# display villains data\n",
        "print(\"villains data:\")\n",
        "for row in rows:\n",
        "    print(row)\n",
        "\n",
        "connection.commit()\n",
        "cursor.close()"
      ],
      "metadata": {
        "id": "a_Dqn1Zw98Ce",
        "outputId": "ecf6f34c-95a9-49b3-a9d1-38f61d15d289",
        "colab": {
          "base_uri": "https://localhost:8080/"
        }
      },
      "id": "a_Dqn1Zw98Ce",
      "execution_count": 2,
      "outputs": [
        {
          "output_type": "stream",
          "name": "stdout",
          "text": [
            "battles data:\n",
            "(1, 1, 10, 'Villain Wins')\n",
            "(2, 9, 3, 'Hero Wins')\n",
            "(3, 8, 1, 'Draw')\n",
            "(4, 5, 4, 'Villain Wins')\n",
            "(5, 1, 7, 'Hero Wins')\n",
            "(6, 2, 8, 'Villain Wins')\n",
            "(7, 9, 8, 'Hero Wins')\n",
            "(8, 3, 2, 'Hero Wins')\n",
            "(9, 7, 5, 'Hero Wins')\n",
            "(10, 3, 1, 'Draw')\n",
            "(11, 1, 8, 'Villain Wins')\n",
            "(12, 2, 1, 'Draw')\n",
            "(13, 8, 9, 'Hero Wins')\n",
            "(14, 8, 1, 'Draw')\n",
            "(15, 6, 10, 'Draw')\n",
            "(16, 1, 1, 'Villain Wins')\n",
            "(17, 8, 3, 'Draw')\n",
            "(18, 6, 3, 'Villain Wins')\n",
            "(19, 4, 8, 'Villain Wins')\n",
            "(20, 3, 4, 'Hero Wins')\n",
            "(21, 8, 1, 'Draw')\n",
            "(22, 4, 9, 'Draw')\n",
            "(23, 3, 9, 'Draw')\n",
            "(24, 8, 9, 'Villain Wins')\n",
            "(25, 2, 5, 'Draw')\n",
            "(26, 3, 7, 'Draw')\n",
            "(27, 10, 3, 'Draw')\n",
            "(28, 3, 8, 'Draw')\n",
            "(29, 3, 5, 'Hero Wins')\n",
            "(30, 5, 5, 'Hero Wins')\n",
            "heroes data:\n",
            "(1, 'Spider-Man', 'Web-slinging', 'Avengers')\n",
            "(2, 'Iron Man', 'Powered Armor', 'Avengers')\n",
            "(3, 'Batman', 'Genius Detective', 'Justice League')\n",
            "(4, 'Superman', 'Super Strength', 'Justice League')\n",
            "(5, 'Thor', 'God of Thunder', 'Avengers')\n",
            "(6, 'Wonder Woman', 'Amazonian Strength', 'Justice League')\n",
            "(7, 'Black Panther', 'Enhanced Agility', 'Avengers')\n",
            "(8, 'The Flash', 'Super Speed', 'Justice League')\n",
            "(9, 'Hulk', 'Super Strength', 'Avengers')\n",
            "(10, 'Doctor Strange', 'Mystic Arts', 'Avengers')\n",
            "villains data:\n",
            "(1, 'Green Goblin', 'Terrorize New York')\n",
            "(2, 'Thanos', 'Collect all Infinity Stones')\n",
            "(3, 'Joker', 'Spread chaos in Gotham')\n",
            "(4, 'Lex Luthor', 'Defeat Superman')\n",
            "(5, 'Loki', 'Trick humanity into worshiping him')\n",
            "(6, 'Ultron', 'AI world domination')\n",
            "(7, 'Darkseid', 'Control the universe')\n",
            "(8, 'Venom', 'Consume Spider-Man')\n",
            "(9, 'Magneto', 'Mutant supremacy')\n",
            "(10, 'Red Skull', 'Revive Hydra')\n"
          ]
        }
      ]
    },
    {
      "cell_type": "markdown",
      "id": "33548d9f",
      "metadata": {
        "id": "33548d9f"
      },
      "source": [
        "## Step 3: Querying the Database\n",
        "\n",
        "### Tasks:\n",
        "Write SQL queries to answer the following:\n",
        "1. Retrieve all superheroes and their powers.\n",
        "2. Find all battles where the hero won.\n",
        "3. List all villains and their evil plans.\n",
        "4. Determine which superhero has fought the most battles.\n",
        "\n",
        "✅ **Checkpoint:** Ensure that all queries return meaningful results from the database."
      ]
    },
    {
      "cell_type": "code",
      "source": [
        "cursor = connection.cursor()\n",
        "\n",
        "# retrieve all superheroes and their powers\n",
        "cursor.execute(\"SELECT name, power FROM heroes;\")\n",
        "heroes_data = cursor.fetchall()\n",
        "print(\"\\nSuperheroes and their powers:\")\n",
        "for row in heroes_data:\n",
        "    print(row)\n",
        "\n",
        "# find all battles where the hero won\n",
        "cursor.execute('''SELECT battles.id, heroes.name AS hero_name, battles.outcome\n",
        "FROM battles JOIN heroes ON battles.hero_id = heroes.id WHERE outcome = 'Hero Wins';''')\n",
        "battles_won = cursor.fetchall()\n",
        "print(\"\\nBattles where the hero won:\")\n",
        "for row in battles_won:\n",
        "    print(row)\n",
        "\n",
        "# list all villains and their evil plans\n",
        "cursor.execute(\"SELECT name, evil_plan FROM villains;\")\n",
        "villains_data = cursor.fetchall()\n",
        "print(\"\\nVillains and their evil plans:\")\n",
        "for row in villains_data:\n",
        "    print(row)\n",
        "\n",
        "# determine which superhero has fought the most battles\n",
        "cursor.execute('''\n",
        "SELECT heroes.name, COUNT(battles.id) AS battle_count\n",
        "FROM battles\n",
        "JOIN heroes ON battles.hero_id = heroes.id\n",
        "GROUP BY heroes.name\n",
        "ORDER BY battle_count DESC;\n",
        "''')\n",
        "most_battles = cursor.fetchone()\n",
        "print(\"\\nSuperhero who fought the most battles:\")\n",
        "for row in most_battles:\n",
        "    print(row)\n",
        "\n",
        "cursor.close()\n",
        "connection.commit()\n"
      ],
      "metadata": {
        "id": "M-q6PyZtCOZn",
        "outputId": "e3af668e-b43c-4c9a-8be0-fd636444df77",
        "colab": {
          "base_uri": "https://localhost:8080/"
        }
      },
      "id": "M-q6PyZtCOZn",
      "execution_count": 3,
      "outputs": [
        {
          "output_type": "stream",
          "name": "stdout",
          "text": [
            "\n",
            "Superheroes and their powers:\n",
            "('Spider-Man', 'Web-slinging')\n",
            "('Iron Man', 'Powered Armor')\n",
            "('Batman', 'Genius Detective')\n",
            "('Superman', 'Super Strength')\n",
            "('Thor', 'God of Thunder')\n",
            "('Wonder Woman', 'Amazonian Strength')\n",
            "('Black Panther', 'Enhanced Agility')\n",
            "('The Flash', 'Super Speed')\n",
            "('Hulk', 'Super Strength')\n",
            "('Doctor Strange', 'Mystic Arts')\n",
            "\n",
            "Battles where the hero won:\n",
            "(2, 'Hulk', 'Hero Wins')\n",
            "(5, 'Spider-Man', 'Hero Wins')\n",
            "(7, 'Hulk', 'Hero Wins')\n",
            "(8, 'Batman', 'Hero Wins')\n",
            "(9, 'Black Panther', 'Hero Wins')\n",
            "(13, 'The Flash', 'Hero Wins')\n",
            "(20, 'Batman', 'Hero Wins')\n",
            "(29, 'Batman', 'Hero Wins')\n",
            "(30, 'Thor', 'Hero Wins')\n",
            "\n",
            "Villains and their evil plans:\n",
            "('Green Goblin', 'Terrorize New York')\n",
            "('Thanos', 'Collect all Infinity Stones')\n",
            "('Joker', 'Spread chaos in Gotham')\n",
            "('Lex Luthor', 'Defeat Superman')\n",
            "('Loki', 'Trick humanity into worshiping him')\n",
            "('Ultron', 'AI world domination')\n",
            "('Darkseid', 'Control the universe')\n",
            "('Venom', 'Consume Spider-Man')\n",
            "('Magneto', 'Mutant supremacy')\n",
            "('Red Skull', 'Revive Hydra')\n",
            "\n",
            "Superhero who fought the most battles:\n",
            "Batman\n",
            "7\n"
          ]
        }
      ]
    },
    {
      "cell_type": "markdown",
      "id": "de8bda94",
      "metadata": {
        "id": "de8bda94"
      },
      "source": [
        "## Step 4: Add a Custom Feature\n",
        "\n",
        "### Tasks:\n",
        "1. Design and implement an additional table related to superheroes or villains.\n",
        "2. Populate it with data.\n",
        "3. Write at least one query to retrieve meaningful insights from the new table.\n",
        "\n",
        "**Examples of Custom Features:**\n",
        "- Sidekicks for superheroes\n",
        "- Villain hideouts\n",
        "- Battle locations\n",
        "- Superhero equipment\n",
        "\n",
        "✅ **Checkpoint:** Ensure that the new table and queries function correctly."
      ]
    },
    {
      "cell_type": "code",
      "source": [
        "cursor = connection.cursor()\n",
        "\n",
        "cursor.execute('''\n",
        "CREATE TABLE IF NOT EXISTS info (\n",
        "  id INTEGER PRIMARY KEY,\n",
        "  hero_id INTEGER,\n",
        "  villain_id INTEGER,\n",
        "  universe TEXT NOT NULL,\n",
        "  main_color TEXT NOT NULL,\n",
        "  FOREIGN KEY (hero_id) REFERENCES heroes(id)\n",
        "  FOREIGN KEY (villain_id) REFERENCES villains(id)\n",
        ")\n",
        "''')\n",
        "hero_info = [\n",
        "    (1, 1, 'Marvel Comics', 'Red'),       # spider-man\n",
        "    (2, 2, 'Marvel Comics', 'Gold'),      # iron man\n",
        "    (3, 3, 'DC Comics', 'Black'),         # batman\n",
        "    (4, 4, 'DC Comics', 'Blue'),          # superman\n",
        "    (5, 5, 'Marvel Comics', 'Silver'),    # thor\n",
        "    (6, 6, 'DC Comics', 'Red'),           # wonder woman\n",
        "    (7, 7, 'Marvel Comics', 'Black'),     # black panther\n",
        "    (8, 8, 'DC Comics', 'Yellow'),        # the flash\n",
        "    (9, 9, 'Marvel Comics', 'Green'),     # hulk\n",
        "    (10, 10, 'Marvel Comics', 'Purple')   # doctor strange\n",
        "]\n",
        "cursor.executemany('INSERT INTO info (id, hero_id, villain_id, universe, main_color) VALUES (?, ?, NULL, ?, ?)', hero_info)\n",
        "\n",
        "villains_info = [\n",
        "    (11, 1, 'Marvel Comics', 'Green'),    # green goblin\n",
        "    (12, 2, 'Marvel Comics', 'Purple'),   # thanos\n",
        "    (13, 3, 'DC Comics', 'White'),        # joker\n",
        "    (14, 4, 'DC Comics', 'Green'),        # lex luthor\n",
        "    (15, 5, 'Marvel Comics', 'Gold'),     # loki\n",
        "    (16, 6, 'Marvel Comics', 'Silver'),   # ultron\n",
        "    (17, 7, 'DC Comics', 'Gray'),         # darkseid\n",
        "    (18, 8, 'Marvel Comics', 'Black'),    # venom\n",
        "    (19, 9, 'Marvel Comics', 'Red'),      # magneto\n",
        "    (20, 10, 'Marvel Comics', 'Red')      # red skull\n",
        "]\n",
        "cursor.executemany('INSERT INTO info (id, hero_id, villain_id, universe, main_color) VALUES (?, NULL, ?, ?, ?)', villains_info)\n",
        "\n",
        "# list all additional info of heroes\n",
        "cursor.execute('''\n",
        "SELECT heroes.name, info.universe, info.main_color\n",
        "FROM heroes\n",
        "JOIN info ON heroes.id = info.hero_id;\n",
        "''')\n",
        "heroes_info = cursor.fetchall()\n",
        "print(\"\\nSuperhero info:\")\n",
        "for row in heroes_info:\n",
        "    print(row)\n",
        "\n",
        "# list all additional info of villains\n",
        "cursor.execute('''\n",
        "SELECT villains.name, info.universe, info.main_color\n",
        "FROM villains\n",
        "JOIN info ON villains.id = info.villain_id;\n",
        "''')\n",
        "villains_info = cursor.fetchall()\n",
        "print(\"\\nVillain info:\")\n",
        "for row in villains_info:\n",
        "    print(row)\n",
        "\n",
        "cursor.close()\n",
        "connection.commit()"
      ],
      "metadata": {
        "colab": {
          "base_uri": "https://localhost:8080/"
        },
        "id": "4LaQvZZ-eo8L",
        "outputId": "e90507b3-8b14-4012-fdf3-f51f6c7bbb17"
      },
      "id": "4LaQvZZ-eo8L",
      "execution_count": 5,
      "outputs": [
        {
          "output_type": "stream",
          "name": "stdout",
          "text": [
            "\n",
            "Superhero info:\n",
            "('Spider-Man', 'Marvel Comics', 'Red')\n",
            "('Iron Man', 'Marvel Comics', 'Gold')\n",
            "('Batman', 'DC Comics', 'Black')\n",
            "('Superman', 'DC Comics', 'Blue')\n",
            "('Thor', 'Marvel Comics', 'Silver')\n",
            "('Wonder Woman', 'DC Comics', 'Red')\n",
            "('Black Panther', 'Marvel Comics', 'Black')\n",
            "('The Flash', 'DC Comics', 'Yellow')\n",
            "('Hulk', 'Marvel Comics', 'Green')\n",
            "('Doctor Strange', 'Marvel Comics', 'Purple')\n",
            "\n",
            "Villain info:\n",
            "('Green Goblin', 'Marvel Comics', 'Green')\n",
            "('Thanos', 'Marvel Comics', 'Purple')\n",
            "('Joker', 'DC Comics', 'White')\n",
            "('Lex Luthor', 'DC Comics', 'Green')\n",
            "('Loki', 'Marvel Comics', 'Gold')\n",
            "('Ultron', 'Marvel Comics', 'Silver')\n",
            "('Darkseid', 'DC Comics', 'Gray')\n",
            "('Venom', 'Marvel Comics', 'Black')\n",
            "('Magneto', 'Marvel Comics', 'Red')\n",
            "('Red Skull', 'Marvel Comics', 'Red')\n"
          ]
        }
      ]
    },
    {
      "cell_type": "markdown",
      "id": "9bf43fe6",
      "metadata": {
        "id": "9bf43fe6"
      },
      "source": [
        "## Bonus Challenge (+5 Points)\n",
        "\n",
        "### Tasks:\n",
        "1. Enhance your project by adding a visual or interactive component.\n",
        "\n",
        "**Options:**\n",
        "- Visualize battles using Matplotlib (e.g., a bar chart showing how many battles each superhero has fought).\n",
        "- Make it interactive (e.g., allow users to input a superhero name and display their battles).\n",
        "\n",
        "✅ **Checkpoint:** If attempting the bonus, ensure that your visualization or interactive component works correctly."
      ]
    },
    {
      "cell_type": "code",
      "source": [
        "import matplotlib.pyplot as plt\n",
        "cursor = connection.cursor()\n",
        "\n",
        "# find the number of battles per hero\n",
        "cursor.execute(\"\"\"\n",
        "    SELECT heroes.name, COUNT(battles.id)\n",
        "    FROM battles\n",
        "    JOIN heroes ON battles.hero_id = heroes.id\n",
        "    GROUP BY battles.hero_id\n",
        "\"\"\")\n",
        "data = cursor.fetchall()\n",
        "heroes, battle_count = zip(*data)\n",
        "\n",
        "plt.figure(figsize=(8, 6))\n",
        "plt.bar(heroes, battle_count)\n",
        "plt.xlabel(\"Superhero\")\n",
        "plt.ylabel(\"Number of Battles\")\n",
        "plt.title(\"Superhero Battle Count\")\n",
        "plt.xticks(rotation=45)\n",
        "plt.show()"
      ],
      "metadata": {
        "colab": {
          "base_uri": "https://localhost:8080/",
          "height": 638
        },
        "id": "0Z4Yly6lDVdn",
        "outputId": "b8f68800-812e-4e63-c306-8683492a25b9"
      },
      "id": "0Z4Yly6lDVdn",
      "execution_count": 8,
      "outputs": [
        {
          "output_type": "display_data",
          "data": {
            "text/plain": [
              "<Figure size 800x600 with 1 Axes>"
            ],
            "image/png": "[encoded data removed]"
          },
          "metadata": {}
        }
      ]
    },
    {
      "cell_type": "markdown",
      "id": "89f56c05",
      "metadata": {
        "id": "89f56c05"
      },
      "source": [
        "## Submission Guidelines\n",
        "\n",
        "Each group must submit a **Google Colab Notebook (.ipynb)** containing:\n",
        "- ✅ **Database schema (DDL)**\n",
        "- ✅ **CSV imports & data insertion (DML)**\n",
        "- ✅ **SQL queries & results**\n",
        "- ✅ **Custom feature (bonus if applicable)**"
      ]
    },
    {
      "cell_type": "markdown",
      "id": "61477c9b",
      "metadata": {
        "id": "61477c9b"
      },
      "source": [
        "## Grading Criteria (Total: 25 Points)\n",
        "\n",
        "| Section                 | Points |\n",
        "|-------------------------|--------|\n",
        "| Database Setup          | 5      |\n",
        "| Data Importing         | 10     |\n",
        "| Querying the Data      | 10     |\n",
        "| Extra Feature          | 5      |\n",
        "| Bonus Challenge (Optional) | +5  |"
      ]
    },
    {
      "cell_type": "markdown",
      "id": "92bf6839",
      "metadata": {
        "id": "92bf6839"
      },
      "source": [
        "### Final Notes:\n",
        "- Be **creative** when designing superheroes and villains.\n",
        "- **Comment your code** to explain its functionality.\n",
        "- **Have fun** building your superhero universe!"
      ]
    }
  ],
  "metadata": {
    "colab": {
      "provenance": []
    },
    "language_info": {
      "name": "python"
    },
    "kernelspec": {
      "name": "python3",
      "display_name": "Python 3"
    }
  },
  "nbformat": 4,
  "nbformat_minor": 5
}